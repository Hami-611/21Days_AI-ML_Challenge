{
  "nbformat": 4,
  "nbformat_minor": 0,
  "metadata": {
    "colab": {
      "provenance": [],
      "authorship_tag": "ABX9TyOaHSJcI23EF12BflWj12kx",
      "include_colab_link": true
    },
    "kernelspec": {
      "name": "python3",
      "display_name": "Python 3"
    },
    "language_info": {
      "name": "python"
    }
  },
  "cells": [
    {
      "cell_type": "markdown",
      "metadata": {
        "id": "view-in-github",
        "colab_type": "text"
      },
      "source": [
        "<a href=\"https://colab.research.google.com/github/Hami-611/21Days_AI-ML_Challenge/blob/main/Day_13_Next_Gen_Forecasting_Applying_Deep_Learning_to_Time_Series_Data.ipynb\" target=\"_parent\"><img src=\"https://colab.research.google.com/assets/colab-badge.svg\" alt=\"Open In Colab\"/></a>"
      ]
    },
    {
      "cell_type": "markdown",
      "source": [
        "### Assignment Documentation\n",
        "\n",
        "Based on the analysis performed in this notebook, the assignment is to focus on building and evaluating models for predicting the **High** price of the NIFTY 50 index.\n",
        "\n",
        "Specifically, you should concentrate on the following models and time windows:\n",
        "\n",
        "*   **Models:**\n",
        "    *   KNN (K-Nearest Neighbors Regressor)\n",
        "    *   RNN (Simple Recurrent Neural Network)\n",
        "    *   GRU (Gated Recurrent Unit)\n",
        "    *   LSTM (Long Short-Term Memory)\n",
        "    *   Bidirectional LSTM\n",
        "\n",
        "*   **Time Windows (Input Days):**\n",
        "    *   30 days\n",
        "    *   60 days\n",
        "    *   90 days\n",
        "\n",
        "For the Deep Learning models (RNN, GRU, LSTM, Bidirectional LSTM), train them for **50 epochs**.\n",
        "\n",
        "The goal is to train these specific models for the 'High' column using the specified time windows and evaluate their performance using MAE and RMSE, comparing the results."
      ],
      "metadata": {
        "id": "BjkH4YKJMz-H"
      }
    },
    {
      "cell_type": "code",
      "execution_count": 1,
      "metadata": {
        "id": "apOJg56JMwgz"
      },
      "outputs": [],
      "source": [
        "import pandas as pd\n",
        "import numpy as np\n",
        "import matplotlib.pyplot as plt\n",
        "from sklearn.preprocessing import MinMaxScaler\n",
        "from sklearn.model_selection import train_test_split\n",
        "from sklearn.neighbors import KNeighborsRegressor\n",
        "from sklearn.metrics import mean_absolute_error, mean_squared_error\n",
        "import tensorflow as tf\n",
        "from tensorflow.keras.models import Sequential\n",
        "from tensorflow.keras.layers import SimpleRNN, GRU, LSTM, Bidirectional, Dense, Dropout"
      ]
    },
    {
      "cell_type": "code",
      "metadata": {
        "colab": {
          "base_uri": "https://localhost:8080/",
          "height": 206
        },
        "id": "e81f8883",
        "outputId": "2a6e37c8-6cdb-49ef-f152-606a8391c10a"
      },
      "source": [
        "# Load the dataset\n",
        "df = pd.read_csv('/content/data.csv')\n",
        "\n",
        "# Display the first few rows\n",
        "display(df.head())"
      ],
      "execution_count": 2,
      "outputs": [
        {
          "output_type": "display_data",
          "data": {
            "text/plain": [
              "         Date     Open     High      Low   Close\n",
              "0  2000-01-03  1482.15  1592.90  1482.15  1592.2\n",
              "1  2000-01-04  1594.40  1641.95  1594.40  1638.7\n",
              "2  2000-01-05  1634.55  1635.50  1555.05  1595.8\n",
              "3  2000-01-06  1595.80  1639.00  1595.80  1617.6\n",
              "4  2000-01-07  1616.60  1628.25  1597.20  1613.3"
            ],
            "text/html": [
              "\n",
              "  <div id=\"df-63040d3e-d557-45bc-b5b1-388ec46c85cc\" class=\"colab-df-container\">\n",
              "    <div>\n",
              "<style scoped>\n",
              "    .dataframe tbody tr th:only-of-type {\n",
              "        vertical-align: middle;\n",
              "    }\n",
              "\n",
              "    .dataframe tbody tr th {\n",
              "        vertical-align: top;\n",
              "    }\n",
              "\n",
              "    .dataframe thead th {\n",
              "        text-align: right;\n",
              "    }\n",
              "</style>\n",
              "<table border=\"1\" class=\"dataframe\">\n",
              "  <thead>\n",
              "    <tr style=\"text-align: right;\">\n",
              "      <th></th>\n",
              "      <th>Date</th>\n",
              "      <th>Open</th>\n",
              "      <th>High</th>\n",
              "      <th>Low</th>\n",
              "      <th>Close</th>\n",
              "    </tr>\n",
              "  </thead>\n",
              "  <tbody>\n",
              "    <tr>\n",
              "      <th>0</th>\n",
              "      <td>2000-01-03</td>\n",
              "      <td>1482.15</td>\n",
              "      <td>1592.90</td>\n",
              "      <td>1482.15</td>\n",
              "      <td>1592.2</td>\n",
              "    </tr>\n",
              "    <tr>\n",
              "      <th>1</th>\n",
              "      <td>2000-01-04</td>\n",
              "      <td>1594.40</td>\n",
              "      <td>1641.95</td>\n",
              "      <td>1594.40</td>\n",
              "      <td>1638.7</td>\n",
              "    </tr>\n",
              "    <tr>\n",
              "      <th>2</th>\n",
              "      <td>2000-01-05</td>\n",
              "      <td>1634.55</td>\n",
              "      <td>1635.50</td>\n",
              "      <td>1555.05</td>\n",
              "      <td>1595.8</td>\n",
              "    </tr>\n",
              "    <tr>\n",
              "      <th>3</th>\n",
              "      <td>2000-01-06</td>\n",
              "      <td>1595.80</td>\n",
              "      <td>1639.00</td>\n",
              "      <td>1595.80</td>\n",
              "      <td>1617.6</td>\n",
              "    </tr>\n",
              "    <tr>\n",
              "      <th>4</th>\n",
              "      <td>2000-01-07</td>\n",
              "      <td>1616.60</td>\n",
              "      <td>1628.25</td>\n",
              "      <td>1597.20</td>\n",
              "      <td>1613.3</td>\n",
              "    </tr>\n",
              "  </tbody>\n",
              "</table>\n",
              "</div>\n",
              "    <div class=\"colab-df-buttons\">\n",
              "\n",
              "  <div class=\"colab-df-container\">\n",
              "    <button class=\"colab-df-convert\" onclick=\"convertToInteractive('df-63040d3e-d557-45bc-b5b1-388ec46c85cc')\"\n",
              "            title=\"Convert this dataframe to an interactive table.\"\n",
              "            style=\"display:none;\">\n",
              "\n",
              "  <svg xmlns=\"http://www.w3.org/2000/svg\" height=\"24px\" viewBox=\"0 -960 960 960\">\n",
              "    <path d=\"M120-120v-720h720v720H120Zm60-500h600v-160H180v160Zm220 220h160v-160H400v160Zm0 220h160v-160H400v160ZM180-400h160v-160H180v160Zm440 0h160v-160H620v160ZM180-180h160v-160H180v160Zm440 0h160v-160H620v160Z\"/>\n",
              "  </svg>\n",
              "    </button>\n",
              "\n",
              "  <style>\n",
              "    .colab-df-container {\n",
              "      display:flex;\n",
              "      gap: 12px;\n",
              "    }\n",
              "\n",
              "    .colab-df-convert {\n",
              "      background-color: #E8F0FE;\n",
              "      border: none;\n",
              "      border-radius: 50%;\n",
              "      cursor: pointer;\n",
              "      display: none;\n",
              "      fill: #1967D2;\n",
              "      height: 32px;\n",
              "      padding: 0 0 0 0;\n",
              "      width: 32px;\n",
              "    }\n",
              "\n",
              "    .colab-df-convert:hover {\n",
              "      background-color: #E2EBFA;\n",
              "      box-shadow: 0px 1px 2px rgba(60, 64, 67, 0.3), 0px 1px 3px 1px rgba(60, 64, 67, 0.15);\n",
              "      fill: #174EA6;\n",
              "    }\n",
              "\n",
              "    .colab-df-buttons div {\n",
              "      margin-bottom: 4px;\n",
              "    }\n",
              "\n",
              "    [theme=dark] .colab-df-convert {\n",
              "      background-color: #3B4455;\n",
              "      fill: #D2E3FC;\n",
              "    }\n",
              "\n",
              "    [theme=dark] .colab-df-convert:hover {\n",
              "      background-color: #434B5C;\n",
              "      box-shadow: 0px 1px 3px 1px rgba(0, 0, 0, 0.15);\n",
              "      filter: drop-shadow(0px 1px 2px rgba(0, 0, 0, 0.3));\n",
              "      fill: #FFFFFF;\n",
              "    }\n",
              "  </style>\n",
              "\n",
              "    <script>\n",
              "      const buttonEl =\n",
              "        document.querySelector('#df-63040d3e-d557-45bc-b5b1-388ec46c85cc button.colab-df-convert');\n",
              "      buttonEl.style.display =\n",
              "        google.colab.kernel.accessAllowed ? 'block' : 'none';\n",
              "\n",
              "      async function convertToInteractive(key) {\n",
              "        const element = document.querySelector('#df-63040d3e-d557-45bc-b5b1-388ec46c85cc');\n",
              "        const dataTable =\n",
              "          await google.colab.kernel.invokeFunction('convertToInteractive',\n",
              "                                                    [key], {});\n",
              "        if (!dataTable) return;\n",
              "\n",
              "        const docLinkHtml = 'Like what you see? Visit the ' +\n",
              "          '<a target=\"_blank\" href=https://colab.research.google.com/notebooks/data_table.ipynb>data table notebook</a>'\n",
              "          + ' to learn more about interactive tables.';\n",
              "        element.innerHTML = '';\n",
              "        dataTable['output_type'] = 'display_data';\n",
              "        await google.colab.output.renderOutput(dataTable, element);\n",
              "        const docLink = document.createElement('div');\n",
              "        docLink.innerHTML = docLinkHtml;\n",
              "        element.appendChild(docLink);\n",
              "      }\n",
              "    </script>\n",
              "  </div>\n",
              "\n",
              "\n",
              "    <div id=\"df-5222e25b-9ade-49c4-98eb-550283f86b9c\">\n",
              "      <button class=\"colab-df-quickchart\" onclick=\"quickchart('df-5222e25b-9ade-49c4-98eb-550283f86b9c')\"\n",
              "                title=\"Suggest charts\"\n",
              "                style=\"display:none;\">\n",
              "\n",
              "<svg xmlns=\"http://www.w3.org/2000/svg\" height=\"24px\"viewBox=\"0 0 24 24\"\n",
              "     width=\"24px\">\n",
              "    <g>\n",
              "        <path d=\"M19 3H5c-1.1 0-2 .9-2 2v14c0 1.1.9 2 2 2h14c1.1 0 2-.9 2-2V5c0-1.1-.9-2-2-2zM9 17H7v-7h2v7zm4 0h-2V7h2v10zm4 0h-2v-4h2v4z\"/>\n",
              "    </g>\n",
              "</svg>\n",
              "      </button>\n",
              "\n",
              "<style>\n",
              "  .colab-df-quickchart {\n",
              "      --bg-color: #E8F0FE;\n",
              "      --fill-color: #1967D2;\n",
              "      --hover-bg-color: #E2EBFA;\n",
              "      --hover-fill-color: #174EA6;\n",
              "      --disabled-fill-color: #AAA;\n",
              "      --disabled-bg-color: #DDD;\n",
              "  }\n",
              "\n",
              "  [theme=dark] .colab-df-quickchart {\n",
              "      --bg-color: #3B4455;\n",
              "      --fill-color: #D2E3FC;\n",
              "      --hover-bg-color: #434B5C;\n",
              "      --hover-fill-color: #FFFFFF;\n",
              "      --disabled-bg-color: #3B4455;\n",
              "      --disabled-fill-color: #666;\n",
              "  }\n",
              "\n",
              "  .colab-df-quickchart {\n",
              "    background-color: var(--bg-color);\n",
              "    border: none;\n",
              "    border-radius: 50%;\n",
              "    cursor: pointer;\n",
              "    display: none;\n",
              "    fill: var(--fill-color);\n",
              "    height: 32px;\n",
              "    padding: 0;\n",
              "    width: 32px;\n",
              "  }\n",
              "\n",
              "  .colab-df-quickchart:hover {\n",
              "    background-color: var(--hover-bg-color);\n",
              "    box-shadow: 0 1px 2px rgba(60, 64, 67, 0.3), 0 1px 3px 1px rgba(60, 64, 67, 0.15);\n",
              "    fill: var(--button-hover-fill-color);\n",
              "  }\n",
              "\n",
              "  .colab-df-quickchart-complete:disabled,\n",
              "  .colab-df-quickchart-complete:disabled:hover {\n",
              "    background-color: var(--disabled-bg-color);\n",
              "    fill: var(--disabled-fill-color);\n",
              "    box-shadow: none;\n",
              "  }\n",
              "\n",
              "  .colab-df-spinner {\n",
              "    border: 2px solid var(--fill-color);\n",
              "    border-color: transparent;\n",
              "    border-bottom-color: var(--fill-color);\n",
              "    animation:\n",
              "      spin 1s steps(1) infinite;\n",
              "  }\n",
              "\n",
              "  @keyframes spin {\n",
              "    0% {\n",
              "      border-color: transparent;\n",
              "      border-bottom-color: var(--fill-color);\n",
              "      border-left-color: var(--fill-color);\n",
              "    }\n",
              "    20% {\n",
              "      border-color: transparent;\n",
              "      border-left-color: var(--fill-color);\n",
              "      border-top-color: var(--fill-color);\n",
              "    }\n",
              "    30% {\n",
              "      border-color: transparent;\n",
              "      border-left-color: var(--fill-color);\n",
              "      border-top-color: var(--fill-color);\n",
              "      border-right-color: var(--fill-color);\n",
              "    }\n",
              "    40% {\n",
              "      border-color: transparent;\n",
              "      border-right-color: var(--fill-color);\n",
              "      border-top-color: var(--fill-color);\n",
              "    }\n",
              "    60% {\n",
              "      border-color: transparent;\n",
              "      border-right-color: var(--fill-color);\n",
              "    }\n",
              "    80% {\n",
              "      border-color: transparent;\n",
              "      border-right-color: var(--fill-color);\n",
              "      border-bottom-color: var(--fill-color);\n",
              "    }\n",
              "    90% {\n",
              "      border-color: transparent;\n",
              "      border-bottom-color: var(--fill-color);\n",
              "    }\n",
              "  }\n",
              "</style>\n",
              "\n",
              "      <script>\n",
              "        async function quickchart(key) {\n",
              "          const quickchartButtonEl =\n",
              "            document.querySelector('#' + key + ' button');\n",
              "          quickchartButtonEl.disabled = true;  // To prevent multiple clicks.\n",
              "          quickchartButtonEl.classList.add('colab-df-spinner');\n",
              "          try {\n",
              "            const charts = await google.colab.kernel.invokeFunction(\n",
              "                'suggestCharts', [key], {});\n",
              "          } catch (error) {\n",
              "            console.error('Error during call to suggestCharts:', error);\n",
              "          }\n",
              "          quickchartButtonEl.classList.remove('colab-df-spinner');\n",
              "          quickchartButtonEl.classList.add('colab-df-quickchart-complete');\n",
              "        }\n",
              "        (() => {\n",
              "          let quickchartButtonEl =\n",
              "            document.querySelector('#df-5222e25b-9ade-49c4-98eb-550283f86b9c button');\n",
              "          quickchartButtonEl.style.display =\n",
              "            google.colab.kernel.accessAllowed ? 'block' : 'none';\n",
              "        })();\n",
              "      </script>\n",
              "    </div>\n",
              "\n",
              "    </div>\n",
              "  </div>\n"
            ],
            "application/vnd.google.colaboratory.intrinsic+json": {
              "type": "dataframe",
              "summary": "{\n  \"name\": \"display(df\",\n  \"rows\": 5,\n  \"fields\": [\n    {\n      \"column\": \"Date\",\n      \"properties\": {\n        \"dtype\": \"object\",\n        \"num_unique_values\": 5,\n        \"samples\": [\n          \"2000-01-04\",\n          \"2000-01-07\",\n          \"2000-01-05\"\n        ],\n        \"semantic_type\": \"\",\n        \"description\": \"\"\n      }\n    },\n    {\n      \"column\": \"Open\",\n      \"properties\": {\n        \"dtype\": \"number\",\n        \"std\": 59.658266401228865,\n        \"min\": 1482.15,\n        \"max\": 1634.55,\n        \"num_unique_values\": 5,\n        \"samples\": [\n          1594.4,\n          1616.6,\n          1634.55\n        ],\n        \"semantic_type\": \"\",\n        \"description\": \"\"\n      }\n    },\n    {\n      \"column\": \"High\",\n      \"properties\": {\n        \"dtype\": \"number\",\n        \"std\": 20.017323747194546,\n        \"min\": 1592.9,\n        \"max\": 1641.95,\n        \"num_unique_values\": 5,\n        \"samples\": [\n          1641.95,\n          1628.25,\n          1635.5\n        ],\n        \"semantic_type\": \"\",\n        \"description\": \"\"\n      }\n    },\n    {\n      \"column\": \"Low\",\n      \"properties\": {\n        \"dtype\": \"number\",\n        \"std\": 49.53012467175908,\n        \"min\": 1482.15,\n        \"max\": 1597.2,\n        \"num_unique_values\": 5,\n        \"samples\": [\n          1594.4,\n          1597.2,\n          1555.05\n        ],\n        \"semantic_type\": \"\",\n        \"description\": \"\"\n      }\n    },\n    {\n      \"column\": \"Close\",\n      \"properties\": {\n        \"dtype\": \"number\",\n        \"std\": 18.703395413667547,\n        \"min\": 1592.2,\n        \"max\": 1638.7,\n        \"num_unique_values\": 5,\n        \"samples\": [\n          1638.7,\n          1613.3,\n          1595.8\n        ],\n        \"semantic_type\": \"\",\n        \"description\": \"\"\n      }\n    }\n  ]\n}"
            }
          },
          "metadata": {}
        }
      ]
    },
    {
      "cell_type": "markdown",
      "metadata": {
        "id": "9b671237"
      },
      "source": [
        "## Data preprocessing\n",
        "\n"
      ]
    },
    {
      "cell_type": "code",
      "metadata": {
        "colab": {
          "base_uri": "https://localhost:8080/"
        },
        "id": "b42457e4",
        "outputId": "4d38b1d7-957e-4854-b451-daa5dc4c2e04"
      },
      "source": [
        "# 1. Select the 'High' column\n",
        "high_prices = df['High']\n",
        "\n",
        "# 2. Initialize a MinMaxScaler\n",
        "scaler = MinMaxScaler()\n",
        "\n",
        "# 3. Reshape the high_prices data\n",
        "high_prices_reshaped = high_prices.values.reshape(-1, 1)\n",
        "\n",
        "# 4. Fit and transform the data\n",
        "scaled_high_prices = scaler.fit_transform(high_prices_reshaped)\n",
        "\n",
        "# 5. Define a function to create time windowed sequences\n",
        "def create_sequences(data, window_size):\n",
        "    X, y = [], []\n",
        "    for i in range(len(data) - window_size):\n",
        "        X.append(data[i:(i + window_size), 0])\n",
        "        y.append(data[i + window_size, 0])\n",
        "    return np.array(X), np.array(y)\n",
        "\n",
        "# 6. Apply the function for each time window\n",
        "window_sizes = [30, 60, 90]\n",
        "X_30, y_30 = create_sequences(scaled_high_prices, window_sizes[0])\n",
        "X_60, y_60 = create_sequences(scaled_high_prices, window_sizes[1])\n",
        "X_90, y_90 = create_sequences(scaled_high_prices, window_sizes[2])\n",
        "\n",
        "# 7. Reshape input data for deep learning models\n",
        "X_30_reshaped = X_30.reshape((X_30.shape[0], X_30.shape[1], 1))\n",
        "X_60_reshaped = X_60.reshape((X_60.shape[0], X_60.shape[1], 1))\n",
        "X_90_reshaped = X_90.reshape((X_90.shape[0], X_90.shape[1], 1))\n",
        "\n",
        "print(f\"Shape of X_30_reshaped: {X_30_reshaped.shape}\")\n",
        "print(f\"Shape of y_30: {y_30.shape}\")\n",
        "print(f\"Shape of X_60_reshaped: {X_60_reshaped.shape}\")\n",
        "print(f\"Shape of y_60: {y_60.shape}\")\n",
        "print(f\"Shape of X_90_reshaped: {X_90_reshaped.shape}\")\n",
        "print(f\"Shape of y_90: {y_90.shape}\")"
      ],
      "execution_count": 3,
      "outputs": [
        {
          "output_type": "stream",
          "name": "stdout",
          "text": [
            "Shape of X_30_reshaped: (6285, 30, 1)\n",
            "Shape of y_30: (6285,)\n",
            "Shape of X_60_reshaped: (6255, 60, 1)\n",
            "Shape of y_60: (6255,)\n",
            "Shape of X_90_reshaped: (6225, 90, 1)\n",
            "Shape of y_90: (6225,)\n"
          ]
        }
      ]
    },
    {
      "cell_type": "markdown",
      "metadata": {
        "id": "20bda8e2"
      },
      "source": [
        "## KNN model\n",
        "\n"
      ]
    },
    {
      "cell_type": "code",
      "metadata": {
        "colab": {
          "base_uri": "https://localhost:8080/"
        },
        "id": "7579b572",
        "outputId": "6244bc27-a3f6-447f-df0d-bb287e52816d"
      },
      "source": [
        "def train_and_evaluate_knn(X, y, scaler, window_size):\n",
        "    \"\"\"Trains and evaluates a KNN Regressor for a given time window.\"\"\"\n",
        "    # Split the data into training and testing sets\n",
        "    X_train, X_test, y_train, y_test = train_test_split(X, y, test_size=0.2, random_state=42)\n",
        "\n",
        "    # Initialize a KNeighborsRegressor\n",
        "    knn_model = KNeighborsRegressor(n_neighbors=5)\n",
        "\n",
        "    # Train the KNN model\n",
        "    knn_model.fit(X_train, y_train)\n",
        "\n",
        "    # Make predictions on the testing data\n",
        "    y_pred_scaled = knn_model.predict(X_test)\n",
        "\n",
        "    # Inverse transform the predictions and actual test values\n",
        "    y_test_original = scaler.inverse_transform(y_test.reshape(-1, 1))\n",
        "    y_pred_original = scaler.inverse_transform(y_pred_scaled.reshape(-1, 1))\n",
        "\n",
        "    # Calculate MAE and RMSE\n",
        "    mae = mean_absolute_error(y_test_original, y_pred_original)\n",
        "    rmse = np.sqrt(mean_squared_error(y_test_original, y_pred_original))\n",
        "\n",
        "    # Print the results\n",
        "    print(f\"KNN Regressor with window size {window_size}:\")\n",
        "    print(f\"  MAE: {mae:.4f}\")\n",
        "    print(f\"  RMSE: {rmse:.4f}\")\n",
        "\n",
        "# Call the function for each time window size\n",
        "train_and_evaluate_knn(X_30, y_30, scaler, 30)\n",
        "train_and_evaluate_knn(X_60, y_60, scaler, 60)\n",
        "train_and_evaluate_knn(X_90, y_90, scaler, 90)"
      ],
      "execution_count": 4,
      "outputs": [
        {
          "output_type": "stream",
          "name": "stdout",
          "text": [
            "KNN Regressor with window size 30:\n",
            "  MAE: 63.0793\n",
            "  RMSE: 100.9408\n",
            "KNN Regressor with window size 60:\n",
            "  MAE: 57.7650\n",
            "  RMSE: 93.6251\n",
            "KNN Regressor with window size 90:\n",
            "  MAE: 50.4311\n",
            "  RMSE: 78.6860\n"
          ]
        }
      ]
    },
    {
      "cell_type": "markdown",
      "metadata": {
        "id": "8b1ea0c0"
      },
      "source": [
        "## RNN model\n",
        "\n"
      ]
    },
    {
      "cell_type": "code",
      "metadata": {
        "colab": {
          "base_uri": "https://localhost:8080/"
        },
        "id": "4eec233f",
        "outputId": "f75b22e1-6cea-4346-a144-7d3fed0f8d44"
      },
      "source": [
        "def train_and_evaluate_simple_rnn(input_shape, X_train, y_train, X_test, y_test, scaler, window_size):\n",
        "    \"\"\"Builds, trains, and evaluates a Simple RNN model.\"\"\"\n",
        "    # Build the Simple RNN model\n",
        "    model = Sequential()\n",
        "    model.add(SimpleRNN(units=50, return_sequences=True, input_shape=input_shape))\n",
        "    model.add(Dropout(0.2))\n",
        "    model.add(SimpleRNN(units=50))\n",
        "    model.add(Dropout(0.2))\n",
        "    model.add(Dense(units=1))\n",
        "\n",
        "    # Compile the model\n",
        "    model.compile(optimizer='adam', loss='mean_squared_error')\n",
        "\n",
        "    # Train the model\n",
        "    history = model.fit(X_train, y_train, epochs=50, batch_size=32, validation_split=0.2, verbose=0)\n",
        "\n",
        "    # Evaluate the model\n",
        "    loss = model.evaluate(X_test, y_test, verbose=0)\n",
        "    print(f\"Simple RNN with window size {window_size} - Test Loss (MSE): {loss:.4f}\")\n",
        "\n",
        "    # Make predictions\n",
        "    y_pred_scaled = model.predict(X_test)\n",
        "\n",
        "    # Inverse transform the predictions and actual test values\n",
        "    y_test_original = scaler.inverse_transform(y_test.reshape(-1, 1))\n",
        "    y_pred_original = scaler.inverse_transform(y_pred_scaled)\n",
        "\n",
        "    # Calculate MAE and RMSE\n",
        "    mae = mean_absolute_error(y_test_original, y_pred_original)\n",
        "    rmse = np.sqrt(mean_squared_error(y_test_original, y_pred_original))\n",
        "\n",
        "    # Print the results\n",
        "    print(f\"Simple RNN with window size {window_size}:\")\n",
        "    print(f\"  MAE: {mae:.4f}\")\n",
        "    print(f\"  RMSE: {rmse:.4f}\")\n",
        "\n",
        "# Split data for each window size\n",
        "X_30_train, X_30_test, y_30_train, y_30_test = train_test_split(X_30_reshaped, y_30, test_size=0.2, random_state=42)\n",
        "X_60_train, X_60_test, y_60_train, y_60_test = train_test_split(X_60_reshaped, y_60, test_size=0.2, random_state=42)\n",
        "X_90_train, X_90_test, y_90_train, y_90_test = train_test_split(X_90_reshaped, y_90, test_size=0.2, random_state=42)\n",
        "\n",
        "\n",
        "# Call the function for each time window size\n",
        "train_and_evaluate_simple_rnn((X_30_reshaped.shape[1], 1), X_30_train, y_30_train, X_30_test, y_30_test, scaler, 30)\n",
        "train_and_evaluate_simple_rnn((X_60_reshaped.shape[1], 1), X_60_train, y_60_train, X_60_test, y_60_test, scaler, 60)\n",
        "train_and_evaluate_simple_rnn((X_90_reshaped.shape[1], 1), X_90_train, y_90_train, X_90_test, y_90_test, scaler, 90)"
      ],
      "execution_count": 5,
      "outputs": [
        {
          "metadata": {
            "tags": null
          },
          "name": "stderr",
          "output_type": "stream",
          "text": [
            "/usr/local/lib/python3.12/dist-packages/keras/src/layers/rnn/rnn.py:199: UserWarning: Do not pass an `input_shape`/`input_dim` argument to a layer. When using Sequential models, prefer using an `Input(shape)` object as the first layer in the model instead.\n",
            "  super().__init__(**kwargs)\n"
          ]
        },
        {
          "metadata": {
            "tags": null
          },
          "name": "stdout",
          "output_type": "stream",
          "text": [
            "Simple RNN with window size 30 - Test Loss (MSE): 0.0002\n",
            "\u001b[1m40/40\u001b[0m \u001b[32m━━━━━━━━━━━━━━━━━━━━\u001b[0m\u001b[37m\u001b[0m \u001b[1m0s\u001b[0m 7ms/step\n",
            "Simple RNN with window size 30:\n",
            "  MAE: 204.3943\n",
            "  RMSE: 315.2109\n"
          ]
        },
        {
          "metadata": {
            "tags": null
          },
          "name": "stderr",
          "output_type": "stream",
          "text": [
            "/usr/local/lib/python3.12/dist-packages/keras/src/layers/rnn/rnn.py:199: UserWarning: Do not pass an `input_shape`/`input_dim` argument to a layer. When using Sequential models, prefer using an `Input(shape)` object as the first layer in the model instead.\n",
            "  super().__init__(**kwargs)\n"
          ]
        },
        {
          "metadata": {
            "tags": null
          },
          "name": "stdout",
          "output_type": "stream",
          "text": [
            "Simple RNN with window size 60 - Test Loss (MSE): 0.0000\n",
            "\u001b[1m40/40\u001b[0m \u001b[32m━━━━━━━━━━━━━━━━━━━━\u001b[0m\u001b[37m\u001b[0m \u001b[1m1s\u001b[0m 9ms/step\n",
            "Simple RNN with window size 60:\n",
            "  MAE: 134.7820\n",
            "  RMSE: 176.2921\n"
          ]
        },
        {
          "metadata": {
            "tags": null
          },
          "name": "stderr",
          "output_type": "stream",
          "text": [
            "/usr/local/lib/python3.12/dist-packages/keras/src/layers/rnn/rnn.py:199: UserWarning: Do not pass an `input_shape`/`input_dim` argument to a layer. When using Sequential models, prefer using an `Input(shape)` object as the first layer in the model instead.\n",
            "  super().__init__(**kwargs)\n"
          ]
        },
        {
          "output_type": "stream",
          "name": "stdout",
          "text": [
            "Simple RNN with window size 90 - Test Loss (MSE): 0.0000\n",
            "\u001b[1m39/39\u001b[0m \u001b[32m━━━━━━━━━━━━━━━━━━━━\u001b[0m\u001b[37m\u001b[0m \u001b[1m1s\u001b[0m 10ms/step\n",
            "Simple RNN with window size 90:\n",
            "  MAE: 81.0846\n",
            "  RMSE: 130.7446\n"
          ]
        }
      ]
    },
    {
      "cell_type": "markdown",
      "metadata": {
        "id": "624435e0"
      },
      "source": [
        "## GRU model\n",
        "\n"
      ]
    },
    {
      "cell_type": "code",
      "metadata": {
        "colab": {
          "base_uri": "https://localhost:8080/"
        },
        "id": "c09755d9",
        "outputId": "3dddf45d-0424-4b42-da32-c0e4c36e05dd"
      },
      "source": [
        "def train_and_evaluate_gru(input_shape, X_train, y_train, X_test, y_test, scaler, window_size):\n",
        "    \"\"\"Builds, trains, and evaluates a GRU model.\"\"\"\n",
        "    # Build the GRU model\n",
        "    model = Sequential()\n",
        "    model.add(GRU(units=50, return_sequences=True, input_shape=input_shape))\n",
        "    model.add(Dropout(0.2))\n",
        "    model.add(GRU(units=50))\n",
        "    model.add(Dropout(0.2))\n",
        "    model.add(Dense(units=1))\n",
        "\n",
        "    # Compile the model\n",
        "    model.compile(optimizer='adam', loss='mean_squared_error')\n",
        "\n",
        "    # Train the model\n",
        "    history = model.fit(X_train, y_train, epochs=50, batch_size=32, validation_split=0.2, verbose=0)\n",
        "\n",
        "    # Evaluate the model\n",
        "    loss = model.evaluate(X_test, y_test, verbose=0)\n",
        "    print(f\"GRU with window size {window_size} - Test Loss (MSE): {loss:.4f}\")\n",
        "\n",
        "    # Make predictions\n",
        "    y_pred_scaled = model.predict(X_test)\n",
        "\n",
        "    # Inverse transform the predictions and actual test values\n",
        "    y_test_original = scaler.inverse_transform(y_test.reshape(-1, 1))\n",
        "    y_pred_original = scaler.inverse_transform(y_pred_scaled)\n",
        "\n",
        "    # Calculate MAE and RMSE\n",
        "    mae = mean_absolute_error(y_test_original, y_pred_original)\n",
        "    rmse = np.sqrt(mean_squared_error(y_test_original, y_pred_original))\n",
        "\n",
        "    # Print the results\n",
        "    print(f\"GRU with window size {window_size}:\")\n",
        "    print(f\"  MAE: {mae:.4f}\")\n",
        "    print(f\"  RMSE: {rmse:.4f}\")\n",
        "\n",
        "# Call the function for each time window size\n",
        "train_and_evaluate_gru((X_30_reshaped.shape[1], 1), X_30_train, y_30_train, X_30_test, y_30_test, scaler, 30)\n",
        "train_and_evaluate_gru((X_60_reshaped.shape[1], 1), X_60_train, y_60_train, X_60_test, y_60_test, scaler, 60)\n",
        "train_and_evaluate_gru((X_90_reshaped.shape[1], 1), X_90_train, y_90_train, X_90_test, y_90_test, scaler, 90)"
      ],
      "execution_count": 6,
      "outputs": [
        {
          "output_type": "stream",
          "name": "stderr",
          "text": [
            "/usr/local/lib/python3.12/dist-packages/keras/src/layers/rnn/rnn.py:199: UserWarning: Do not pass an `input_shape`/`input_dim` argument to a layer. When using Sequential models, prefer using an `Input(shape)` object as the first layer in the model instead.\n",
            "  super().__init__(**kwargs)\n"
          ]
        },
        {
          "output_type": "stream",
          "name": "stdout",
          "text": [
            "GRU with window size 30 - Test Loss (MSE): 0.0002\n",
            "\u001b[1m40/40\u001b[0m \u001b[32m━━━━━━━━━━━━━━━━━━━━\u001b[0m\u001b[37m\u001b[0m \u001b[1m1s\u001b[0m 11ms/step\n",
            "GRU with window size 30:\n",
            "  MAE: 231.5595\n",
            "  RMSE: 328.4980\n"
          ]
        },
        {
          "output_type": "stream",
          "name": "stderr",
          "text": [
            "/usr/local/lib/python3.12/dist-packages/keras/src/layers/rnn/rnn.py:199: UserWarning: Do not pass an `input_shape`/`input_dim` argument to a layer. When using Sequential models, prefer using an `Input(shape)` object as the first layer in the model instead.\n",
            "  super().__init__(**kwargs)\n"
          ]
        },
        {
          "output_type": "stream",
          "name": "stdout",
          "text": [
            "GRU with window size 60 - Test Loss (MSE): 0.0001\n",
            "\u001b[1m40/40\u001b[0m \u001b[32m━━━━━━━━━━━━━━━━━━━━\u001b[0m\u001b[37m\u001b[0m \u001b[1m1s\u001b[0m 16ms/step\n",
            "GRU with window size 60:\n",
            "  MAE: 177.1460\n",
            "  RMSE: 278.5381\n"
          ]
        },
        {
          "output_type": "stream",
          "name": "stderr",
          "text": [
            "/usr/local/lib/python3.12/dist-packages/keras/src/layers/rnn/rnn.py:199: UserWarning: Do not pass an `input_shape`/`input_dim` argument to a layer. When using Sequential models, prefer using an `Input(shape)` object as the first layer in the model instead.\n",
            "  super().__init__(**kwargs)\n"
          ]
        },
        {
          "output_type": "stream",
          "name": "stdout",
          "text": [
            "GRU with window size 90 - Test Loss (MSE): 0.0001\n",
            "\u001b[1m39/39\u001b[0m \u001b[32m━━━━━━━━━━━━━━━━━━━━\u001b[0m\u001b[37m\u001b[0m \u001b[1m1s\u001b[0m 19ms/step\n",
            "GRU with window size 90:\n",
            "  MAE: 153.3246\n",
            "  RMSE: 208.2133\n"
          ]
        }
      ]
    },
    {
      "cell_type": "markdown",
      "metadata": {
        "id": "26f1e4ee"
      },
      "source": [
        "## LSTM model\n"
      ]
    },
    {
      "cell_type": "code",
      "metadata": {
        "colab": {
          "base_uri": "https://localhost:8080/"
        },
        "id": "805e487e",
        "outputId": "6acccdb5-5d61-4c3c-f3a2-a695d5d07a71"
      },
      "source": [
        "def train_and_evaluate_lstm(input_shape, X_train, y_train, X_test, y_test, scaler, window_size):\n",
        "    \"\"\"Builds, trains, and evaluates an LSTM model.\"\"\"\n",
        "    # Build the LSTM model\n",
        "    model = Sequential()\n",
        "    model.add(LSTM(units=50, return_sequences=True, input_shape=input_shape))\n",
        "    model.add(Dropout(0.2))\n",
        "    model.add(LSTM(units=50))\n",
        "    model.add(Dropout(0.2))\n",
        "    model.add(Dense(units=1))\n",
        "\n",
        "    # Compile the model\n",
        "    model.compile(optimizer='adam', loss='mean_squared_error')\n",
        "\n",
        "    # Train the model\n",
        "    history = model.fit(X_train, y_train, epochs=50, batch_size=32, validation_split=0.2, verbose=0)\n",
        "\n",
        "    # Evaluate the model\n",
        "    loss = model.evaluate(X_test, y_test, verbose=0)\n",
        "    print(f\"LSTM with window size {window_size} - Test Loss (MSE): {loss:.4f}\")\n",
        "\n",
        "    # Make predictions\n",
        "    y_pred_scaled = model.predict(X_test)\n",
        "\n",
        "    # Inverse transform the predictions and actual test values\n",
        "    y_test_original = scaler.inverse_transform(y_test.reshape(-1, 1))\n",
        "    y_pred_original = scaler.inverse_transform(y_pred_scaled)\n",
        "\n",
        "    # Calculate MAE and RMSE\n",
        "    mae = mean_absolute_error(y_test_original, y_pred_original)\n",
        "    rmse = np.sqrt(mean_squared_error(y_test_original, y_pred_original))\n",
        "\n",
        "    # Print the results\n",
        "    print(f\"LSTM with window size {window_size}:\")\n",
        "    print(f\"  MAE: {mae:.4f}\")\n",
        "    print(f\"  RMSE: {rmse:.4f}\")\n",
        "\n",
        "# Call the function for each time window size\n",
        "train_and_evaluate_lstm((X_30_reshaped.shape[1], 1), X_30_train, y_30_train, X_30_test, y_30_test, scaler, 30)\n",
        "train_and_evaluate_lstm((X_60_reshaped.shape[1], 1), X_60_train, y_60_train, X_60_test, y_60_test, scaler, 60)\n",
        "train_and_evaluate_lstm((X_90_reshaped.shape[1], 1), X_90_train, y_90_train, X_90_test, y_90_test, scaler, 90)"
      ],
      "execution_count": 7,
      "outputs": [
        {
          "output_type": "stream",
          "name": "stderr",
          "text": [
            "/usr/local/lib/python3.12/dist-packages/keras/src/layers/rnn/rnn.py:199: UserWarning: Do not pass an `input_shape`/`input_dim` argument to a layer. When using Sequential models, prefer using an `Input(shape)` object as the first layer in the model instead.\n",
            "  super().__init__(**kwargs)\n"
          ]
        },
        {
          "output_type": "stream",
          "name": "stdout",
          "text": [
            "LSTM with window size 30 - Test Loss (MSE): 0.0004\n",
            "\u001b[1m40/40\u001b[0m \u001b[32m━━━━━━━━━━━━━━━━━━━━\u001b[0m\u001b[37m\u001b[0m \u001b[1m1s\u001b[0m 10ms/step\n",
            "LSTM with window size 30:\n",
            "  MAE: 353.2603\n",
            "  RMSE: 509.9431\n"
          ]
        },
        {
          "output_type": "stream",
          "name": "stderr",
          "text": [
            "/usr/local/lib/python3.12/dist-packages/keras/src/layers/rnn/rnn.py:199: UserWarning: Do not pass an `input_shape`/`input_dim` argument to a layer. When using Sequential models, prefer using an `Input(shape)` object as the first layer in the model instead.\n",
            "  super().__init__(**kwargs)\n"
          ]
        },
        {
          "output_type": "stream",
          "name": "stdout",
          "text": [
            "LSTM with window size 60 - Test Loss (MSE): 0.0001\n",
            "\u001b[1m40/40\u001b[0m \u001b[32m━━━━━━━━━━━━━━━━━━━━\u001b[0m\u001b[37m\u001b[0m \u001b[1m1s\u001b[0m 14ms/step\n",
            "LSTM with window size 60:\n",
            "  MAE: 210.4903\n",
            "  RMSE: 310.6218\n"
          ]
        },
        {
          "output_type": "stream",
          "name": "stderr",
          "text": [
            "/usr/local/lib/python3.12/dist-packages/keras/src/layers/rnn/rnn.py:199: UserWarning: Do not pass an `input_shape`/`input_dim` argument to a layer. When using Sequential models, prefer using an `Input(shape)` object as the first layer in the model instead.\n",
            "  super().__init__(**kwargs)\n"
          ]
        },
        {
          "output_type": "stream",
          "name": "stdout",
          "text": [
            "LSTM with window size 90 - Test Loss (MSE): 0.0001\n",
            "\u001b[1m39/39\u001b[0m \u001b[32m━━━━━━━━━━━━━━━━━━━━\u001b[0m\u001b[37m\u001b[0m \u001b[1m1s\u001b[0m 18ms/step\n",
            "LSTM with window size 90:\n",
            "  MAE: 151.7005\n",
            "  RMSE: 207.5123\n"
          ]
        }
      ]
    },
    {
      "cell_type": "markdown",
      "metadata": {
        "id": "f279c8ce"
      },
      "source": [
        "## Bidirectional LSTM model\n",
        "\n"
      ]
    },
    {
      "cell_type": "code",
      "metadata": {
        "colab": {
          "base_uri": "https://localhost:8080/"
        },
        "id": "4503e38a",
        "outputId": "b986691c-7c47-4397-91c7-309ff1bfbb97"
      },
      "source": [
        "def train_and_evaluate_bidirectional_lstm(input_shape, X_train, y_train, X_test, y_test, scaler, window_size):\n",
        "    \"\"\"Builds, trains, and evaluates a Bidirectional LSTM model.\"\"\"\n",
        "    # Build the Bidirectional LSTM model\n",
        "    model = Sequential()\n",
        "    model.add(Bidirectional(LSTM(units=50, return_sequences=True), input_shape=input_shape))\n",
        "    model.add(Dropout(0.2))\n",
        "    model.add(Bidirectional(LSTM(units=50)))\n",
        "    model.add(Dropout(0.2))\n",
        "    model.add(Dense(units=1))\n",
        "\n",
        "    # Compile the model\n",
        "    model.compile(optimizer='adam', loss='mean_squared_error')\n",
        "\n",
        "    # Train the model\n",
        "    history = model.fit(X_train, y_train, epochs=50, batch_size=32, validation_split=0.2, verbose=0)\n",
        "\n",
        "    # Evaluate the model\n",
        "    loss = model.evaluate(X_test, y_test, verbose=0)\n",
        "    print(f\"Bidirectional LSTM with window size {window_size} - Test Loss (MSE): {loss:.4f}\")\n",
        "\n",
        "    # Make predictions\n",
        "    y_pred_scaled = model.predict(X_test)\n",
        "\n",
        "    # Inverse transform the predictions and actual test values\n",
        "    y_test_original = scaler.inverse_transform(y_test.reshape(-1, 1))\n",
        "    y_pred_original = scaler.inverse_transform(y_pred_scaled)\n",
        "\n",
        "    # Calculate MAE and RMSE\n",
        "    mae = mean_absolute_error(y_test_original, y_pred_original)\n",
        "    rmse = np.sqrt(mean_squared_error(y_test_original, y_pred_original))\n",
        "\n",
        "    # Print the results\n",
        "    print(f\"Bidirectional LSTM with window size {window_size}:\")\n",
        "    print(f\"  MAE: {mae:.4f}\")\n",
        "    print(f\"  RMSE: {rmse:.4f}\")\n",
        "\n",
        "# Call the function for each time window size\n",
        "train_and_evaluate_bidirectional_lstm((X_30_reshaped.shape[1], 1), X_30_train, y_30_train, X_30_test, y_30_test, scaler, 30)\n",
        "train_and_evaluate_bidirectional_lstm((X_60_reshaped.shape[1], 1), X_60_train, y_60_train, X_60_test, y_60_test, scaler, 60)\n",
        "train_and_evaluate_bidirectional_lstm((X_90_reshaped.shape[1], 1), X_90_train, y_90_train, X_90_test, y_90_test, scaler, 90)"
      ],
      "execution_count": 8,
      "outputs": [
        {
          "metadata": {
            "tags": null
          },
          "name": "stderr",
          "output_type": "stream",
          "text": [
            "/usr/local/lib/python3.12/dist-packages/keras/src/layers/rnn/bidirectional.py:107: UserWarning: Do not pass an `input_shape`/`input_dim` argument to a layer. When using Sequential models, prefer using an `Input(shape)` object as the first layer in the model instead.\n",
            "  super().__init__(**kwargs)\n"
          ]
        },
        {
          "metadata": {
            "tags": null
          },
          "name": "stdout",
          "output_type": "stream",
          "text": [
            "Bidirectional LSTM with window size 30 - Test Loss (MSE): 0.0001\n",
            "\u001b[1m40/40\u001b[0m \u001b[32m━━━━━━━━━━━━━━━━━━━━\u001b[0m\u001b[37m\u001b[0m \u001b[1m1s\u001b[0m 18ms/step\n",
            "Bidirectional LSTM with window size 30:\n",
            "  MAE: 133.4445\n",
            "  RMSE: 201.3737\n"
          ]
        },
        {
          "metadata": {
            "tags": null
          },
          "name": "stderr",
          "output_type": "stream",
          "text": [
            "/usr/local/lib/python3.12/dist-packages/keras/src/layers/rnn/bidirectional.py:107: UserWarning: Do not pass an `input_shape`/`input_dim` argument to a layer. When using Sequential models, prefer using an `Input(shape)` object as the first layer in the model instead.\n",
            "  super().__init__(**kwargs)\n"
          ]
        },
        {
          "metadata": {
            "tags": null
          },
          "name": "stdout",
          "output_type": "stream",
          "text": [
            "Bidirectional LSTM with window size 60 - Test Loss (MSE): 0.0001\n",
            "\u001b[1m40/40\u001b[0m \u001b[32m━━━━━━━━━━━━━━━━━━━━\u001b[0m\u001b[37m\u001b[0m \u001b[1m1s\u001b[0m 24ms/step\n",
            "Bidirectional LSTM with window size 60:\n",
            "  MAE: 191.2091\n",
            "  RMSE: 284.7557\n"
          ]
        },
        {
          "metadata": {
            "tags": null
          },
          "name": "stderr",
          "output_type": "stream",
          "text": [
            "/usr/local/lib/python3.12/dist-packages/keras/src/layers/rnn/bidirectional.py:107: UserWarning: Do not pass an `input_shape`/`input_dim` argument to a layer. When using Sequential models, prefer using an `Input(shape)` object as the first layer in the model instead.\n",
            "  super().__init__(**kwargs)\n"
          ]
        },
        {
          "output_type": "stream",
          "name": "stdout",
          "text": [
            "Bidirectional LSTM with window size 90 - Test Loss (MSE): 0.0001\n",
            "\u001b[1m39/39\u001b[0m \u001b[32m━━━━━━━━━━━━━━━━━━━━\u001b[0m\u001b[37m\u001b[0m \u001b[1m2s\u001b[0m 35ms/step\n",
            "Bidirectional LSTM with window size 90:\n",
            "  MAE: 177.5884\n",
            "  RMSE: 234.2708\n"
          ]
        }
      ]
    },
    {
      "cell_type": "code",
      "source": [],
      "metadata": {
        "id": "-16_D4H5cgnx"
      },
      "execution_count": null,
      "outputs": []
    },
    {
      "cell_type": "markdown",
      "metadata": {
        "id": "149b3252"
      },
      "source": [
        "## Summary and Analysis\n",
        "\n",
        "In this notebook, we have performed the following steps:\n",
        "\n",
        "1. **Data Loading and Preprocessing**: Loaded the NIFTY 50 index data and preprocessed the 'High' price column by scaling it and creating time windowed sequences for 30, 60, and 90 days.\n",
        "2. **Model Training and Evaluation**: Trained and evaluated five different models (KNN, Simple RNN, GRU, LSTM, and Bidirectional LSTM) for predicting the 'High' price using the three specified time windows. The models were evaluated based on Mean Absolute Error (MAE) and Root Mean Squared Error (RMSE).\n",
        "\n",
        "Here is a summary of the results obtained:\n",
        "\n",
        "### KNN Regressor\n",
        "\n",
        "| Window Size | MAE     | RMSE     |\n",
        "|-------------|---------|----------|\n",
        "| 30          | 63.0793 | 100.9408 |\n",
        "| 60          | 57.7650 | 93.6251  |\n",
        "| 90          | 50.4311 | 78.6860  |\n",
        "\n",
        "*Analysis:* The KNN model's performance improved as the window size increased, with the 90-day window yielding the lowest MAE and RMSE.\n",
        "\n",
        "### Simple RNN\n",
        "\n",
        "| Window Size | MAE     | RMSE     |\n",
        "|-------------|---------|----------|\n",
        "| 30          | 204.3943 | 315.2109 |\n",
        "| 60          | 134.7820 | 176.2921 |\n",
        "| 90          | 81.0846 | 130.7446 |\n",
        "\n",
        "*Analysis:* Similar to KNN, the Simple RNN showed better performance with larger window sizes. The MAE and RMSE are significantly higher than the KNN model.\n",
        "\n",
        "### GRU\n",
        "\n",
        "| Window Size | MAE     | RMSE     |\n",
        "|-------------|---------|----------|\n",
        "| 30          | 231.5595 | 328.4980 |\n",
        "| 60          | 177.1460 | 278.5381 |\n",
        "| 90          | 153.3246 | 208.2133 |\n",
        "\n",
        "*Analysis:* The GRU model's performance also improved with increasing window size. The MAE and RMSE are higher than both KNN and Simple RNN.\n",
        "\n",
        "### LSTM\n",
        "\n",
        "| Window Size | MAE     | RMSE     |\n",
        "|-------------|---------|----------|\n",
        "| 30          | 353.2603 | 509.9431 |\n",
        "| 60          | 210.4903 | 310.6218 |\n",
        "| 90          | 151.7005 | 207.5123 |\n",
        "\n",
        "*Analysis:* The LSTM model, like the others, performed better with larger window sizes. The MAE and RMSE are the highest among all models for the 30 and 60 day windows, but closer to the GRU for the 90 day window.\n",
        "\n",
        "### Bidirectional LSTM\n",
        "\n",
        "| Window Size | MAE     | RMSE     |\n",
        "|-------------|---------|----------|\n",
        "| 30          | 133.4445 | 201.3737 |\n",
        "| 60          | 191.2091 | 284.7557 |\n",
        "| 90          | 177.5884 | 234.2708 |\n",
        "\n",
        "*Analysis:* The Bidirectional LSTM shows varied performance across window sizes. The 30-day window had the lowest MAE and RMSE, while the 60 and 90-day windows performed worse than the Simple RNN and GRU for the same window sizes.\n",
        "\n",
        "### Overall Comparison\n",
        "\n",
        "Based on the MAE and RMSE values, the **KNN Regressor with a 90-day window** appears to be the best performing model among those tested for predicting the 'High' price of the NIFTY 50 index, achieving the lowest MAE (50.4311) and RMSE (78.6860).\n",
        "\n",
        "Among the deep learning models, the Simple RNN generally performed better than GRU and LSTM, with the 90-day window again yielding the best results. The Bidirectional LSTM showed promising results for the 30-day window, but its performance degraded for larger window sizes.\n",
        "\n",
        "It's important to note that these results are based on the specific model configurations and hyperparameters used. Further tuning and experimentation could potentially improve the performance of all models."
      ]
    }
  ]
}