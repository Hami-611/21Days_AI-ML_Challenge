{
  "nbformat": 4,
  "nbformat_minor": 0,
  "metadata": {
    "colab": {
      "provenance": [],
      "authorship_tag": "ABX9TyO+0dmrhVjpQRJejZF7LOxV",
      "include_colab_link": true
    },
    "kernelspec": {
      "name": "python3",
      "display_name": "Python 3"
    },
    "language_info": {
      "name": "python"
    }
  },
  "cells": [
    {
      "cell_type": "markdown",
      "metadata": {
        "id": "view-in-github",
        "colab_type": "text"
      },
      "source": [
        "<a href=\"https://colab.research.google.com/github/Hami-611/21Days_AI-ML_Challenge/blob/main/Day6.ipynb\" target=\"_parent\"><img src=\"https://colab.research.google.com/assets/colab-badge.svg\" alt=\"Open In Colab\"/></a>"
      ]
    },
    {
      "cell_type": "code",
      "execution_count": 23,
      "metadata": {
        "id": "QL6lbD0Rg7hc"
      },
      "outputs": [],
      "source": [
        "import pandas as pd\n",
        "import numpy as np\n",
        "import matplotlib.pyplot as plt\n",
        "import seaborn as sns\n",
        "import statsmodels.api as sm\n",
        "from statsmodels.graphics.tsaplots import plot_acf, plot_pacf\n",
        "from statsmodels.tsa.seasonal import seasonal_decompose\n",
        "from statsmodels.tsa.stattools import adfuller\n",
        "from statsmodels.tsa.arima.model import ARIMA # Import ARIMA\n",
        "from statsmodels.tsa.statespace.sarimax import SARIMAX # Import SARIMAX\n",
        "from sklearn.metrics import mean_squared_error # Import mean_squared_error\n",
        "import math # Import math module\n",
        "import warnings\n",
        "warnings.filterwarnings('ignore')"
      ]
    },
    {
      "cell_type": "code",
      "source": [
        "df = pd.read_csv('/content/airline_passenger_timeseries.csv')\n",
        "df.head()"
      ],
      "metadata": {
        "colab": {
          "base_uri": "https://localhost:8080/",
          "height": 206
        },
        "id": "OcJkkhxpj8TS",
        "outputId": "fad81dd1-3eaa-4ae1-c4f9-58a0bffc7580"
      },
      "execution_count": 4,
      "outputs": [
        {
          "output_type": "execute_result",
          "data": {
            "text/plain": [
              "     Month  Passengers\n",
              "0  1949-01         112\n",
              "1  1949-02         118\n",
              "2  1949-03         132\n",
              "3  1949-04         129\n",
              "4  1949-05         121"
            ],
            "text/html": [
              "\n",
              "  <div id=\"df-dd986f04-7239-4668-971b-0597fef509e6\" class=\"colab-df-container\">\n",
              "    <div>\n",
              "<style scoped>\n",
              "    .dataframe tbody tr th:only-of-type {\n",
              "        vertical-align: middle;\n",
              "    }\n",
              "\n",
              "    .dataframe tbody tr th {\n",
              "        vertical-align: top;\n",
              "    }\n",
              "\n",
              "    .dataframe thead th {\n",
              "        text-align: right;\n",
              "    }\n",
              "</style>\n",
              "<table border=\"1\" class=\"dataframe\">\n",
              "  <thead>\n",
              "    <tr style=\"text-align: right;\">\n",
              "      <th></th>\n",
              "      <th>Month</th>\n",
              "      <th>Passengers</th>\n",
              "    </tr>\n",
              "  </thead>\n",
              "  <tbody>\n",
              "    <tr>\n",
              "      <th>0</th>\n",
              "      <td>1949-01</td>\n",
              "      <td>112</td>\n",
              "    </tr>\n",
              "    <tr>\n",
              "      <th>1</th>\n",
              "      <td>1949-02</td>\n",
              "      <td>118</td>\n",
              "    </tr>\n",
              "    <tr>\n",
              "      <th>2</th>\n",
              "      <td>1949-03</td>\n",
              "      <td>132</td>\n",
              "    </tr>\n",
              "    <tr>\n",
              "      <th>3</th>\n",
              "      <td>1949-04</td>\n",
              "      <td>129</td>\n",
              "    </tr>\n",
              "    <tr>\n",
              "      <th>4</th>\n",
              "      <td>1949-05</td>\n",
              "      <td>121</td>\n",
              "    </tr>\n",
              "  </tbody>\n",
              "</table>\n",
              "</div>\n",
              "    <div class=\"colab-df-buttons\">\n",
              "\n",
              "  <div class=\"colab-df-container\">\n",
              "    <button class=\"colab-df-convert\" onclick=\"convertToInteractive('df-dd986f04-7239-4668-971b-0597fef509e6')\"\n",
              "            title=\"Convert this dataframe to an interactive table.\"\n",
              "            style=\"display:none;\">\n",
              "\n",
              "  <svg xmlns=\"http://www.w3.org/2000/svg\" height=\"24px\" viewBox=\"0 -960 960 960\">\n",
              "    <path d=\"M120-120v-720h720v720H120Zm60-500h600v-160H180v160Zm220 220h160v-160H400v160Zm0 220h160v-160H400v160ZM180-400h160v-160H180v160Zm440 0h160v-160H620v160ZM180-180h160v-160H180v160Zm440 0h160v-160H620v160Z\"/>\n",
              "  </svg>\n",
              "    </button>\n",
              "\n",
              "  <style>\n",
              "    .colab-df-container {\n",
              "      display:flex;\n",
              "      gap: 12px;\n",
              "    }\n",
              "\n",
              "    .colab-df-convert {\n",
              "      background-color: #E8F0FE;\n",
              "      border: none;\n",
              "      border-radius: 50%;\n",
              "      cursor: pointer;\n",
              "      display: none;\n",
              "      fill: #1967D2;\n",
              "      height: 32px;\n",
              "      padding: 0 0 0 0;\n",
              "      width: 32px;\n",
              "    }\n",
              "\n",
              "    .colab-df-convert:hover {\n",
              "      background-color: #E2EBFA;\n",
              "      box-shadow: 0px 1px 2px rgba(60, 64, 67, 0.3), 0px 1px 3px 1px rgba(60, 64, 67, 0.15);\n",
              "      fill: #174EA6;\n",
              "    }\n",
              "\n",
              "    .colab-df-buttons div {\n",
              "      margin-bottom: 4px;\n",
              "    }\n",
              "\n",
              "    [theme=dark] .colab-df-convert {\n",
              "      background-color: #3B4455;\n",
              "      fill: #D2E3FC;\n",
              "    }\n",
              "\n",
              "    [theme=dark] .colab-df-convert:hover {\n",
              "      background-color: #434B5C;\n",
              "      box-shadow: 0px 1px 3px 1px rgba(0, 0, 0, 0.15);\n",
              "      filter: drop-shadow(0px 1px 2px rgba(0, 0, 0, 0.3));\n",
              "      fill: #FFFFFF;\n",
              "    }\n",
              "  </style>\n",
              "\n",
              "    <script>\n",
              "      const buttonEl =\n",
              "        document.querySelector('#df-dd986f04-7239-4668-971b-0597fef509e6 button.colab-df-convert');\n",
              "      buttonEl.style.display =\n",
              "        google.colab.kernel.accessAllowed ? 'block' : 'none';\n",
              "\n",
              "      async function convertToInteractive(key) {\n",
              "        const element = document.querySelector('#df-dd986f04-7239-4668-971b-0597fef509e6');\n",
              "        const dataTable =\n",
              "          await google.colab.kernel.invokeFunction('convertToInteractive',\n",
              "                                                    [key], {});\n",
              "        if (!dataTable) return;\n",
              "\n",
              "        const docLinkHtml = 'Like what you see? Visit the ' +\n",
              "          '<a target=\"_blank\" href=https://colab.research.google.com/notebooks/data_table.ipynb>data table notebook</a>'\n",
              "          + ' to learn more about interactive tables.';\n",
              "        element.innerHTML = '';\n",
              "        dataTable['output_type'] = 'display_data';\n",
              "        await google.colab.output.renderOutput(dataTable, element);\n",
              "        const docLink = document.createElement('div');\n",
              "        docLink.innerHTML = docLinkHtml;\n",
              "        element.appendChild(docLink);\n",
              "      }\n",
              "    </script>\n",
              "  </div>\n",
              "\n",
              "\n",
              "    <div id=\"df-9ec71d4a-ed8a-4a28-b38b-efc52a85d0ad\">\n",
              "      <button class=\"colab-df-quickchart\" onclick=\"quickchart('df-9ec71d4a-ed8a-4a28-b38b-efc52a85d0ad')\"\n",
              "                title=\"Suggest charts\"\n",
              "                style=\"display:none;\">\n",
              "\n",
              "<svg xmlns=\"http://www.w3.org/2000/svg\" height=\"24px\"viewBox=\"0 0 24 24\"\n",
              "     width=\"24px\">\n",
              "    <g>\n",
              "        <path d=\"M19 3H5c-1.1 0-2 .9-2 2v14c0 1.1.9 2 2 2h14c1.1 0 2-.9 2-2V5c0-1.1-.9-2-2-2zM9 17H7v-7h2v7zm4 0h-2V7h2v10zm4 0h-2v-4h2v4z\"/>\n",
              "    </g>\n",
              "</svg>\n",
              "      </button>\n",
              "\n",
              "<style>\n",
              "  .colab-df-quickchart {\n",
              "      --bg-color: #E8F0FE;\n",
              "      --fill-color: #1967D2;\n",
              "      --hover-bg-color: #E2EBFA;\n",
              "      --hover-fill-color: #174EA6;\n",
              "      --disabled-fill-color: #AAA;\n",
              "      --disabled-bg-color: #DDD;\n",
              "  }\n",
              "\n",
              "  [theme=dark] .colab-df-quickchart {\n",
              "      --bg-color: #3B4455;\n",
              "      --fill-color: #D2E3FC;\n",
              "      --hover-bg-color: #434B5C;\n",
              "      --hover-fill-color: #FFFFFF;\n",
              "      --disabled-bg-color: #3B4455;\n",
              "      --disabled-fill-color: #666;\n",
              "  }\n",
              "\n",
              "  .colab-df-quickchart {\n",
              "    background-color: var(--bg-color);\n",
              "    border: none;\n",
              "    border-radius: 50%;\n",
              "    cursor: pointer;\n",
              "    display: none;\n",
              "    fill: var(--fill-color);\n",
              "    height: 32px;\n",
              "    padding: 0;\n",
              "    width: 32px;\n",
              "  }\n",
              "\n",
              "  .colab-df-quickchart:hover {\n",
              "    background-color: var(--hover-bg-color);\n",
              "    box-shadow: 0 1px 2px rgba(60, 64, 67, 0.3), 0 1px 3px 1px rgba(60, 64, 67, 0.15);\n",
              "    fill: var(--button-hover-fill-color);\n",
              "  }\n",
              "\n",
              "  .colab-df-quickchart-complete:disabled,\n",
              "  .colab-df-quickchart-complete:disabled:hover {\n",
              "    background-color: var(--disabled-bg-color);\n",
              "    fill: var(--disabled-fill-color);\n",
              "    box-shadow: none;\n",
              "  }\n",
              "\n",
              "  .colab-df-spinner {\n",
              "    border: 2px solid var(--fill-color);\n",
              "    border-color: transparent;\n",
              "    border-bottom-color: var(--fill-color);\n",
              "    animation:\n",
              "      spin 1s steps(1) infinite;\n",
              "  }\n",
              "\n",
              "  @keyframes spin {\n",
              "    0% {\n",
              "      border-color: transparent;\n",
              "      border-bottom-color: var(--fill-color);\n",
              "      border-left-color: var(--fill-color);\n",
              "    }\n",
              "    20% {\n",
              "      border-color: transparent;\n",
              "      border-left-color: var(--fill-color);\n",
              "      border-top-color: var(--fill-color);\n",
              "    }\n",
              "    30% {\n",
              "      border-color: transparent;\n",
              "      border-left-color: var(--fill-color);\n",
              "      border-top-color: var(--fill-color);\n",
              "      border-right-color: var(--fill-color);\n",
              "    }\n",
              "    40% {\n",
              "      border-color: transparent;\n",
              "      border-right-color: var(--fill-color);\n",
              "      border-top-color: var(--fill-color);\n",
              "    }\n",
              "    60% {\n",
              "      border-color: transparent;\n",
              "      border-right-color: var(--fill-color);\n",
              "    }\n",
              "    80% {\n",
              "      border-color: transparent;\n",
              "      border-right-color: var(--fill-color);\n",
              "      border-bottom-color: var(--fill-color);\n",
              "    }\n",
              "    90% {\n",
              "      border-color: transparent;\n",
              "      border-bottom-color: var(--fill-color);\n",
              "    }\n",
              "  }\n",
              "</style>\n",
              "\n",
              "      <script>\n",
              "        async function quickchart(key) {\n",
              "          const quickchartButtonEl =\n",
              "            document.querySelector('#' + key + ' button');\n",
              "          quickchartButtonEl.disabled = true;  // To prevent multiple clicks.\n",
              "          quickchartButtonEl.classList.add('colab-df-spinner');\n",
              "          try {\n",
              "            const charts = await google.colab.kernel.invokeFunction(\n",
              "                'suggestCharts', [key], {});\n",
              "          } catch (error) {\n",
              "            console.error('Error during call to suggestCharts:', error);\n",
              "          }\n",
              "          quickchartButtonEl.classList.remove('colab-df-spinner');\n",
              "          quickchartButtonEl.classList.add('colab-df-quickchart-complete');\n",
              "        }\n",
              "        (() => {\n",
              "          let quickchartButtonEl =\n",
              "            document.querySelector('#df-9ec71d4a-ed8a-4a28-b38b-efc52a85d0ad button');\n",
              "          quickchartButtonEl.style.display =\n",
              "            google.colab.kernel.accessAllowed ? 'block' : 'none';\n",
              "        })();\n",
              "      </script>\n",
              "    </div>\n",
              "\n",
              "    </div>\n",
              "  </div>\n"
            ],
            "application/vnd.google.colaboratory.intrinsic+json": {
              "type": "dataframe",
              "variable_name": "df",
              "summary": "{\n  \"name\": \"df\",\n  \"rows\": 144,\n  \"fields\": [\n    {\n      \"column\": \"Month\",\n      \"properties\": {\n        \"dtype\": \"object\",\n        \"num_unique_values\": 144,\n        \"samples\": [\n          \"1958-10\",\n          \"1950-08\",\n          \"1955-11\"\n        ],\n        \"semantic_type\": \"\",\n        \"description\": \"\"\n      }\n    },\n    {\n      \"column\": \"Passengers\",\n      \"properties\": {\n        \"dtype\": \"number\",\n        \"std\": 119,\n        \"min\": 104,\n        \"max\": 622,\n        \"num_unique_values\": 118,\n        \"samples\": [\n          293,\n          340,\n          121\n        ],\n        \"semantic_type\": \"\",\n        \"description\": \"\"\n      }\n    }\n  ]\n}"
            }
          },
          "metadata": {},
          "execution_count": 4
        }
      ]
    },
    {
      "cell_type": "code",
      "source": [
        "# Try to infer date column and passengers column\n",
        "# Common airline dataset has columns ['Month','Passengers'] but we'll be robust.\n",
        "if 'Month' in df.columns:\n",
        "    df['Month'] = pd.to_datetime(df['Month'])\n",
        "    df = df.set_index('Month')\n",
        "else:\n",
        "    # assume first column is date-like\n",
        "    df.iloc[:,0] = pd.to_datetime(df.iloc[:,0], errors='coerce')\n",
        "    df = df.set_index(df.columns[0])"
      ],
      "metadata": {
        "id": "TBgzKIkRt8Cs"
      },
      "execution_count": 5,
      "outputs": []
    },
    {
      "cell_type": "code",
      "source": [
        "# Try to find passenger column name (numeric)\n",
        "num_cols = df.select_dtypes(include=[np.number]).columns.tolist()\n",
        "if len(num_cols)==0:\n",
        "    raise Exception(\"No numeric columns found for passenger counts.\")\n",
        "pass_col = num_cols[0]\n",
        "series = df[pass_col].astype(float).copy()"
      ],
      "metadata": {
        "id": "f_KNbO6VuX6A"
      },
      "execution_count": 6,
      "outputs": []
    },
    {
      "cell_type": "markdown",
      "source": [
        "EDA"
      ],
      "metadata": {
        "id": "bb0_HCDzuhg5"
      }
    },
    {
      "cell_type": "code",
      "source": [
        "plt.figure(figsize=(10,4))\n",
        "plt.plot(series)\n",
        "plt.title(\"Original Time Series\")\n",
        "plt.xlabel(\"Date\")\n",
        "plt.ylabel(pass_col)\n",
        "plt.tight_layout()\n",
        "plt.show()"
      ],
      "metadata": {
        "colab": {
          "base_uri": "https://localhost:8080/",
          "height": 407
        },
        "id": "s4nKdBzTuitL",
        "outputId": "678bfbc5-f85c-46b6-ab09-ca34110d073e"
      },
      "execution_count": 8,
      "outputs": [
        {
          "output_type": "display_data",
          "data": {
            "text/plain": [
              "<Figure size 1000x400 with 1 Axes>"
            ],
            "image/png": "[encoded data removed]"
          },
          "metadata": {}
        }
      ]
    },
    {
      "cell_type": "code",
      "source": [
        "rolling_mean = series.rolling(window=12, center=False).mean()\n",
        "rolling_var = series.rolling(window=12, center=False).var()\n",
        "\n",
        "plt.figure(figsize=(10,4))\n",
        "plt.plot(series, label='Original')\n",
        "plt.plot(rolling_mean, label='12-period Rolling Mean')\n",
        "plt.plot(rolling_var, label='12-period Rolling Variance')\n",
        "plt.title(\"Series with rolling mean & variance (12-period)\")\n",
        "plt.legend()\n",
        "plt.tight_layout()\n",
        "plt.show()"
      ],
      "metadata": {
        "colab": {
          "base_uri": "https://localhost:8080/",
          "height": 407
        },
        "id": "WChKa2gKuonV",
        "outputId": "866d735e-97f5-4efb-8326-54345704c163"
      },
      "execution_count": 9,
      "outputs": [
        {
          "output_type": "display_data",
          "data": {
            "text/plain": [
              "<Figure size 1000x400 with 1 Axes>"
            ],
            "image/png": "[encoded data removed]"
          },
          "metadata": {}
        }
      ]
    },
    {
      "cell_type": "markdown",
      "source": [
        "Stationary Testing"
      ],
      "metadata": {
        "id": "TXt_vaYsus8u"
      }
    },
    {
      "cell_type": "code",
      "source": [
        "def adf_test(ts, title=\"ADF Test\"):\n",
        "    print(f\"--- {title} ---\")\n",
        "    result = adfuller(ts.dropna(), autolag='AIC')\n",
        "    adf_stat, pvalue, usedlag, nobs, crit_vals, icbest = result[0], result[1], result[2], result[3], result[4], result[5]\n",
        "    print(f\"ADF Statistic: {adf_stat:.6f}\")\n",
        "    print(f\"p-value: {pvalue:.6f}\")\n",
        "    print(\"Critical Values:\")\n",
        "    for k, v in crit_vals.items():\n",
        "        print(f\"   {k}: {v:.6f}\")\n",
        "    print()\n",
        "    return {'adf_stat':adf_stat, 'pvalue':pvalue, 'crit':crit_vals}\n",
        "\n",
        "orig_adf = adf_test(series, \"ADF on original series\")"
      ],
      "metadata": {
        "colab": {
          "base_uri": "https://localhost:8080/"
        },
        "id": "3rw3aKBnuulM",
        "outputId": "0460d401-e547-4848-a46c-7618ce8bfbf2"
      },
      "execution_count": 10,
      "outputs": [
        {
          "output_type": "stream",
          "name": "stdout",
          "text": [
            "--- ADF on original series ---\n",
            "ADF Statistic: 0.815369\n",
            "p-value: 0.991880\n",
            "Critical Values:\n",
            "   1%: -3.481682\n",
            "   5%: -2.884042\n",
            "   10%: -2.578770\n",
            "\n"
          ]
        }
      ]
    },
    {
      "cell_type": "markdown",
      "source": [
        "Log Transform"
      ],
      "metadata": {
        "id": "4TTGOYlKuy-K"
      }
    },
    {
      "cell_type": "code",
      "source": [
        "log_series = np.log(series)\n",
        "log_adf = adf_test(log_series, \"ADF on log-transformed series\")"
      ],
      "metadata": {
        "colab": {
          "base_uri": "https://localhost:8080/"
        },
        "id": "9yUmH59Wu1ok",
        "outputId": "f2eb887c-817c-4352-96ab-efa1242920e1"
      },
      "execution_count": 11,
      "outputs": [
        {
          "output_type": "stream",
          "name": "stdout",
          "text": [
            "--- ADF on log-transformed series ---\n",
            "ADF Statistic: -1.717017\n",
            "p-value: 0.422367\n",
            "Critical Values:\n",
            "   1%: -3.481682\n",
            "   5%: -2.884042\n",
            "   10%: -2.578770\n",
            "\n"
          ]
        }
      ]
    },
    {
      "cell_type": "code",
      "source": [
        "\n",
        "# Differencing log series (first difference)\n",
        "log_diff = log_series.diff().dropna()\n",
        "diff_adf = adf_test(log_diff, \"ADF on first-difference of log series\")"
      ],
      "metadata": {
        "colab": {
          "base_uri": "https://localhost:8080/"
        },
        "id": "H0yNckNyu4DM",
        "outputId": "32538777-3259-4f5e-a136-95d5623d6311"
      },
      "execution_count": 12,
      "outputs": [
        {
          "output_type": "stream",
          "name": "stdout",
          "text": [
            "--- ADF on first-difference of log series ---\n",
            "ADF Statistic: -2.717131\n",
            "p-value: 0.071121\n",
            "Critical Values:\n",
            "   1%: -3.482501\n",
            "   5%: -2.884398\n",
            "   10%: -2.578960\n",
            "\n"
          ]
        }
      ]
    },
    {
      "cell_type": "markdown",
      "source": [
        "ARIMA (non-seasonal) on log-transformed data Without differencing (d=0)"
      ],
      "metadata": {
        "id": "EXTqvNrzu9ZF"
      }
    },
    {
      "cell_type": "code",
      "source": [
        "# Split data: train up to last 12 observations, test last 12 (common for monthly airline data)\n",
        "n_test = 12 if len(series) > 24 else max(1, int(len(series)*0.2))\n",
        "train, test = log_series[:-n_test], log_series[-n_test:]\n",
        "\n",
        "print(f\"Using last {n_test} observations as test set (from {test.index[0].date()} to {test.index[-1].date()})\")\n"
      ],
      "metadata": {
        "colab": {
          "base_uri": "https://localhost:8080/"
        },
        "id": "IXi4wXOWu_fN",
        "outputId": "8ffd7929-458d-4f1c-e0ec-040a5e1d58c7"
      },
      "execution_count": 13,
      "outputs": [
        {
          "output_type": "stream",
          "name": "stdout",
          "text": [
            "Using last 12 observations as test set (from 1960-01-01 to 1960-12-01)\n"
          ]
        }
      ]
    },
    {
      "cell_type": "code",
      "source": [
        "# Fit ARIMA(2,0,2) as a reasonable non-seasonal baseline (d=0 as requested)\n",
        "arima_order = (2,0,2)\n",
        "arima_model = ARIMA(train, order=arima_order).fit()\n",
        "print(\"\\nARIMA model summary (non-seasonal, on log data):\")\n",
        "print(arima_model.summary())"
      ],
      "metadata": {
        "colab": {
          "base_uri": "https://localhost:8080/"
        },
        "id": "EbbOyA6RvETy",
        "outputId": "95e36f3e-f839-42d2-f785-cc500758b779"
      },
      "execution_count": 16,
      "outputs": [
        {
          "output_type": "stream",
          "name": "stdout",
          "text": [
            "\n",
            "ARIMA model summary (non-seasonal, on log data):\n",
            "                               SARIMAX Results                                \n",
            "==============================================================================\n",
            "Dep. Variable:             Passengers   No. Observations:                  132\n",
            "Model:                 ARIMA(2, 0, 2)   Log Likelihood                 114.286\n",
            "Date:                Wed, 17 Sep 2025   AIC                           -216.573\n",
            "Time:                        12:53:56   BIC                           -199.276\n",
            "Sample:                    01-01-1949   HQIC                          -209.544\n",
            "                         - 12-01-1959                                         \n",
            "Covariance Type:                  opg                                         \n",
            "==============================================================================\n",
            "                 coef    std err          z      P>|z|      [0.025      0.975]\n",
            "------------------------------------------------------------------------------\n",
            "const          5.4517      0.238     22.894      0.000       4.985       5.918\n",
            "ar.L1          0.2956      0.226      1.307      0.191      -0.148       0.739\n",
            "ar.L2          0.6470      0.211      3.063      0.002       0.233       1.061\n",
            "ma.L1          0.9678      0.237      4.086      0.000       0.504       1.432\n",
            "ma.L2          0.0747      0.159      0.470      0.638      -0.237       0.386\n",
            "sigma2         0.0101      0.002      5.572      0.000       0.007       0.014\n",
            "===================================================================================\n",
            "Ljung-Box (L1) (Q):                   0.04   Jarque-Bera (JB):                 6.36\n",
            "Prob(Q):                              0.83   Prob(JB):                         0.04\n",
            "Heteroskedasticity (H):               1.15   Skew:                             0.12\n",
            "Prob(H) (two-sided):                  0.65   Kurtosis:                         1.95\n",
            "===================================================================================\n",
            "\n",
            "Warnings:\n",
            "[1] Covariance matrix calculated using the outer product of gradients (complex-step).\n"
          ]
        }
      ]
    },
    {
      "cell_type": "code",
      "source": [
        "# Forecast on test period\n",
        "arima_forecast_log = arima_model.predict(start=test.index[0], end=test.index[-1])\n",
        "# Convert back to original scale (exp). Correct for bias using simple method: exp(forecast)\n",
        "arima_pred = np.exp(arima_forecast_log)\n",
        "arima_true = np.exp(test)\n",
        "\n",
        "arima_rmse = math.sqrt(mean_squared_error(arima_true, arima_pred))\n",
        "print(f\"\\nARIMA RMSE on test set (original scale): {arima_rmse:.4f}\")\n",
        "print(f\"ARIMA AIC: {arima_model.aic:.4f}\")"
      ],
      "metadata": {
        "colab": {
          "base_uri": "https://localhost:8080/"
        },
        "id": "QzseVPeGvZJP",
        "outputId": "add95361-02d3-4427-835d-c4a247b3bcad"
      },
      "execution_count": 21,
      "outputs": [
        {
          "output_type": "stream",
          "name": "stdout",
          "text": [
            "\n",
            "ARIMA RMSE on test set (original scale): 130.6594\n",
            "ARIMA AIC: -216.5726\n"
          ]
        }
      ]
    },
    {
      "cell_type": "markdown",
      "source": [
        "SARIMA model (seasonal) - common choice for airline: seasonal_order=(1,1,1,12)"
      ],
      "metadata": {
        "id": "eb7IoY4SvtKB"
      }
    },
    {
      "cell_type": "code",
      "source": [
        "sarima_order = (1,1,1)\n",
        "seasonal_order = (1,1,1,12)\n",
        "sarima_model = SARIMAX(train, order=sarima_order, seasonal_order=seasonal_order, enforce_stationarity=False, enforce_invertibility=False).fit(disp=False)\n",
        "print(\"\\nSARIMAX (seasonal) model summary (on log data):\")\n",
        "print(sarima_model.summary())"
      ],
      "metadata": {
        "colab": {
          "base_uri": "https://localhost:8080/"
        },
        "id": "BIRHnyBDvt0g",
        "outputId": "38471db9-2f7d-4c96-c159-32570a1cfdec"
      },
      "execution_count": 24,
      "outputs": [
        {
          "output_type": "stream",
          "name": "stdout",
          "text": [
            "\n",
            "SARIMAX (seasonal) model summary (on log data):\n",
            "                                     SARIMAX Results                                      \n",
            "==========================================================================================\n",
            "Dep. Variable:                         Passengers   No. Observations:                  132\n",
            "Model:             SARIMAX(1, 1, 1)x(1, 1, 1, 12)   Log Likelihood                 196.914\n",
            "Date:                            Wed, 17 Sep 2025   AIC                           -383.829\n",
            "Time:                                    12:56:15   BIC                           -370.559\n",
            "Sample:                                01-01-1949   HQIC                          -378.451\n",
            "                                     - 12-01-1959                                         \n",
            "Covariance Type:                              opg                                         \n",
            "==============================================================================\n",
            "                 coef    std err          z      P>|z|      [0.025      0.975]\n",
            "------------------------------------------------------------------------------\n",
            "ar.L1          0.0935      0.235      0.397      0.691      -0.367       0.554\n",
            "ma.L1         -0.4990      0.213     -2.343      0.019      -0.916      -0.082\n",
            "ar.S.L12      -0.3319      0.170     -1.953      0.051      -0.665       0.001\n",
            "ma.S.L12      -0.2263      0.197     -1.147      0.251      -0.613       0.160\n",
            "sigma2         0.0014      0.000      7.808      0.000       0.001       0.002\n",
            "===================================================================================\n",
            "Ljung-Box (L1) (Q):                   0.00   Jarque-Bera (JB):                 1.70\n",
            "Prob(Q):                              1.00   Prob(JB):                         0.43\n",
            "Heteroskedasticity (H):               0.34   Skew:                             0.06\n",
            "Prob(H) (two-sided):                  0.00   Kurtosis:                         3.61\n",
            "===================================================================================\n",
            "\n",
            "Warnings:\n",
            "[1] Covariance matrix calculated using the outer product of gradients (complex-step).\n"
          ]
        }
      ]
    },
    {
      "cell_type": "code",
      "source": [
        "sarima_forecast_log = sarima_model.predict(start=test.index[0], end=test.index[-1])\n",
        "sarima_pred = np.exp(sarima_forecast_log)\n",
        "sarima_rmse = math.sqrt(mean_squared_error(arima_true, sarima_pred))\n",
        "print(f\"\\nSARIMA RMSE on test set (original scale): {sarima_rmse:.4f}\")\n",
        "print(f\"SARIMA AIC: {sarima_model.aic:.4f}\")"
      ],
      "metadata": {
        "colab": {
          "base_uri": "https://localhost:8080/"
        },
        "id": "S-oIHRNyv7On",
        "outputId": "fde2277e-79d7-4e2f-8558-d4552f5865f8"
      },
      "execution_count": 25,
      "outputs": [
        {
          "output_type": "stream",
          "name": "stdout",
          "text": [
            "\n",
            "SARIMA RMSE on test set (original scale): 14.7538\n",
            "SARIMA AIC: -383.8285\n"
          ]
        }
      ]
    },
    {
      "cell_type": "code",
      "source": [
        "# Plot forecasts vs actual (original scale)\n",
        "plt.figure(figsize=(10,4))\n",
        "plt.plot(np.exp(series), label='Actual (original scale)')\n",
        "plt.plot(arima_pred, label='ARIMA Forecast (non-seasonal, exp back-transformed)')\n",
        "plt.plot(sarima_pred, label='SARIMA Forecast (seasonal, exp back-transformed)')\n",
        "plt.title(\"Actual vs ARIMA & SARIMA forecasts (original passenger scale)\")\n",
        "plt.legend()\n",
        "plt.tight_layout()\n",
        "plt.show()"
      ],
      "metadata": {
        "colab": {
          "base_uri": "https://localhost:8080/",
          "height": 407
        },
        "id": "W_ucxO1Kv92j",
        "outputId": "3a33dcf7-75ba-4476-bbe2-da79b1195ecf"
      },
      "execution_count": 26,
      "outputs": [
        {
          "output_type": "display_data",
          "data": {
            "text/plain": [
              "<Figure size 1000x400 with 1 Axes>"
            ],
            "image/png": "[encoded data removed]"
          },
          "metadata": {}
        }
      ]
    },
    {
      "cell_type": "code",
      "source": [
        "# Summarize the main numeric results for chat message\n",
        "results = {\n",
        "    \"orig_adf_pvalue\": orig_adf['pvalue'],\n",
        "    \"log_adf_pvalue\": log_adf['pvalue'],\n",
        "    \"logdiff_adf_pvalue\": diff_adf['pvalue'],\n",
        "    \"arima_order\": arima_order,\n",
        "    \"arima_aic\": arima_model.aic,\n",
        "    \"arima_rmse\": arima_rmse,\n",
        "    \"sarima_order\": (sarima_order, seasonal_order),\n",
        "    \"sarima_aic\": sarima_model.aic,\n",
        "    \"sarima_rmse\": sarima_rmse,\n",
        "    \"n_obs\": len(series),\n",
        "}\n",
        "\n",
        "results"
      ],
      "metadata": {
        "colab": {
          "base_uri": "https://localhost:8080/"
        },
        "id": "Arb5LLs0wCv2",
        "outputId": "2a52404d-13ca-4a70-bea0-f020efb46f52"
      },
      "execution_count": 27,
      "outputs": [
        {
          "output_type": "execute_result",
          "data": {
            "text/plain": [
              "{'orig_adf_pvalue': np.float64(0.991880243437641),\n",
              " 'log_adf_pvalue': np.float64(0.4223667747703874),\n",
              " 'logdiff_adf_pvalue': np.float64(0.07112054815086184),\n",
              " 'arima_order': (2, 0, 2),\n",
              " 'arima_aic': np.float64(-216.57258929868567),\n",
              " 'arima_rmse': 130.65936669348176,\n",
              " 'sarima_order': ((1, 1, 1), (1, 1, 1, 12)),\n",
              " 'sarima_aic': np.float64(-383.8285143528946),\n",
              " 'sarima_rmse': 14.75383476569802,\n",
              " 'n_obs': 144}"
            ]
          },
          "metadata": {},
          "execution_count": 27
        }
      ]
    },
    {
      "cell_type": "markdown",
      "source": [
        "## Analysis"
      ],
      "metadata": {
        "id": "SLMQZeBEwMn9"
      }
    },
    {
      "cell_type": "markdown",
      "source": [
        "### 1. Exploratory Data Analysis (EDA): Discuss the initial observations from the time series plot, including trend, seasonality, and variance."
      ],
      "metadata": {
        "id": "vYFBj0vNwN4W"
      }
    },
    {
      "cell_type": "markdown",
      "source": [
        "\n",
        "\n",
        "*   The series shows a clear upward trend over time (passenger counts increase year-over-year).\n",
        "\n",
        "\n",
        "*   There is strong seasonality with a 12-month pattern (peaks and troughs repeat yearly).\n",
        "*   Variance increases with level (larger counts → larger swings), which suggests a log transform may stabilize variance.\n",
        "\n",
        "\n",
        "*   Rolling 12-month mean and variance confirm the series is not stationary (mean and variance evolve over time).\n",
        "\n",
        "\n",
        "\n",
        "\n",
        "\n",
        "\n"
      ],
      "metadata": {
        "id": "I1l516jZwQid"
      }
    },
    {
      "cell_type": "markdown",
      "source": [
        "### 2) Stationarity testing (ADF) what I did & results"
      ],
      "metadata": {
        "id": "s5N_X831woZq"
      }
    },
    {
      "cell_type": "markdown",
      "metadata": {
        "id": "85645e7e"
      },
      "source": [
        "Time-series models like ARIMA assume a stationary series (stable mean/variance). If the series isn’t stationary, forecasts and inference are unreliable.\n",
        "\n",
        "I ran the Augmented Dickey–Fuller (ADF) test at each step:\n",
        "\n",
        "ADF on original series\n",
        "\n",
        "*   ADF statistic = 0.8154, p-value = 0.9919\n",
        "*   Interpretation: p ≫ 0.05 → strong evidence of non-stationarity.\n",
        "\n",
        "ADF on log-transformed series\n",
        "\n",
        "\n",
        "*   ADF statistic = -1.7170, p-value = 0.4224\n",
        "*   Interpretation: log reduced variance and moved ADF in the right direction, but p still > 0.05, so the series remains non-stationary.\n",
        "\n",
        "\n",
        "*   ADF on first-difference of log series (i.e., log(series).diff())\n",
        "*   p-value = 0.07112\n",
        "\n",
        "\n",
        "Interpretation:\n",
        "\n",
        "Differencing the log series almost gets you to stationarity p decreased a lot (from 0.422 to 0.071) but still slightly above 0.05. This suggests the series is close to stationary after first differencing of log, and seasonal structure may still be present (12-month seasonality commonly requires seasonal differencing)."
      ]
    },
    {
      "cell_type": "markdown",
      "source": [
        "### 3) ARIMA (non-seasonal) on log-transformed data, expectations and results."
      ],
      "metadata": {
        "id": "iYuQpb6JxZZ-"
      }
    },
    {
      "cell_type": "markdown",
      "source": [
        "Expectation before fitting:\n",
        "\n",
        "Because the log-transformed series still had p-value ≈ 0.42 (not stationary) and the data has clear yearly seasonality, I did not expect a non-seasonal ARIMA with d=0 to perform well. Non-seasonal ARIMA without differencing ignores both the remaining trend and seasonality, so it should underfit.\n",
        "What I fitted:\n",
        "\n",
        "\n",
        "*   Non-seasonal ARIMA(2,0,2) on the log training series (I used the last 12 months as test set).\n",
        "\n",
        "*   Then back-transformed forecasts with exp() to compare in passenger counts.\n",
        "\n",
        "\n",
        "ARIMA (2,0,2) results (log data, d=0):\n",
        "\n",
        "AIC: -216.5726\n",
        "\n",
        "RMSE on test set (original passenger scale): 130.6594\n",
        "\n",
        "Interpretation:\n",
        "\n",
        "RMSE ≈ 130 passengers — that's huge relative to the magnitude of the series (this model basically missed seasonal pattern and trend). So the non-seasonal ARIMA on log without differencing did not perform well, just as expected."
      ],
      "metadata": {
        "id": "6lqof2g7xfQg"
      }
    },
    {
      "cell_type": "markdown",
      "source": [
        "### 4) Seasonal model (SARIMA) I fitted for comparison"
      ],
      "metadata": {
        "id": "J2TtAGLzylUw"
      }
    },
    {
      "cell_type": "markdown",
      "source": [
        "Because the dataset is the classic monthly airline series, I also fitted a seasonal model:\n",
        "\n",
        "SARIMAX with order = (1,1,1) and seasonal_order = (1,1,1,12) on the log training data.\n",
        "\n",
        "SARIMA results (on log data):\n",
        "\n",
        "AIC: -383.8285 (much lower is better)\n",
        "\n",
        "RMSE on test set (original scale): 14.7540\n",
        "\n",
        "Interpretation:\n",
        "SARIMA massively outperforms the non-seasonal ARIMA(2,0,2). RMSE dropped from ~130 → ~14.75 and AIC improved a lot (more negative). That confirms the seasonal component is essential and the non-seasonal ARIMA(d=0) is a poor fit."
      ],
      "metadata": {
        "id": "bW9djIe1ypni"
      }
    },
    {
      "cell_type": "markdown",
      "source": [
        "### 5) Short conclusions & recommendations (TL;DR)"
      ],
      "metadata": {
        "id": "qdNA-G8Cy9Fd"
      }
    },
    {
      "cell_type": "markdown",
      "source": [
        "Original series is non-stationary (ADF p ≈ 0.992).\n",
        "\n",
        "\n",
        "1.   Log transform improves variance stability but does not make the series stationary (p ≈ 0.422).\n",
        "2.   First differencing of log brings p down to ≈ 0.071 (much closer to stationarity, but marginally above 0.05).\n",
        "\n",
        "\n",
        "1.   Non-seasonal ARIMA (d=0) on log performs poorly (RMSE ≈ 130). Don't use that for forecasting this dataset.\n",
        "\n",
        "1.   Seasonal ARIMA (SARIMAX with seasonal_order (1,1,1,12)) performs much better (RMSE ≈ 14.75, AIC far better). Use a seasonal model or include seasonal differencing.\n",
        "\n",
        "Next steps I’d run (if you want to improve further):\n",
        "\n",
        "1. Try log + seasonal differencing (diff(periods=12)) and/or non-seasonal differencing to get p < 0.05 reliably.\n",
        "\n",
        "2. Use an automated search (e.g., pmdarima.auto_arima) to find better orders or try a small grid search for seasonal/non-seasonal orders.\n",
        "\n",
        "3. Check residual diagnostics (ACF/PACF of residuals, Ljung-Box) to verify no autocorrelation remains.\n",
        "\n",
        "4. Consider ETS or Prophet for robustness, or SARIMAX with exogenous variables if you have them."
      ],
      "metadata": {
        "id": "N2zqsAljy97V"
      }
    },
    {
      "cell_type": "markdown",
      "source": [
        "### 6) Numeric summary"
      ],
      "metadata": {
        "id": "GzBpEI7ezpK5"
      }
    },
    {
      "cell_type": "markdown",
      "source": [
        "Observations: n = 144 (rows)\n",
        "\n",
        "ADF p-values:\n",
        "\n",
        "* original: 0.99188\n",
        "\n",
        "* log: 0.42237\n",
        "\n",
        "* first-diff(log): 0.07112\n",
        "\n",
        "* ARIMA(2,0,2) on log: AIC = -216.5726, RMSE ≈ 130.6594\n",
        "\n",
        "* SARIMA (1,1,1)x(1,1,1,12) on log: AIC = -383.8285, RMSE ≈ 14.7540"
      ],
      "metadata": {
        "id": "IX2RsZESzp02"
      }
    },
    {
      "cell_type": "markdown",
      "source": [
        "Insights and Comparison"
      ],
      "metadata": {
        "id": "PNSza8cI0XPs"
      }
    },
    {
      "cell_type": "markdown",
      "source": [
        "| Model                            | AIC     | RMSE (test) | Notes                               |\n",
        "| -------------------------------- | ------- | ----------- | ----------------------------------- |\n",
        "| ARIMA(2,0,2) (non-seasonal, log) | -216.57 | 130.66      | Poor, missed seasonality            |\n",
        "| SARIMA(1,1,1)x(1,1,1,12) (log)   | -383.83 | 14.75       | Excellent fit, captures seasonality |\n"
      ],
      "metadata": {
        "id": "-m41i-hU0ZZ4"
      }
    }
  ]
}